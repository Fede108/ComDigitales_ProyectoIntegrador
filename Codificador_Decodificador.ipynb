{
 "cells": [
  {
   "cell_type": "markdown",
   "metadata": {},
   "source": [
    "## Frequency Shift Chirp Modulation: La modulación LoRa\n",
    "\n",
    "LoRa emplea **Chirps** como base de cada símbolo modulado. Un **chirp** es una señal senoidal que aumenta o decrementa su frecuencia de forma lineal.\n",
    "\n",
    "\n",
    "Cada símbolo $s(nT_s)$ es un numero real que se genera a partir de un vector binario $w(nT_s)$ de longitud igual al **Spreading Factor** (SF), el cual puede tomar valores entre 7 y 12.\n",
    "\n",
    "\n",
    "- **Vector de bits**: $w(nT_s) = [w_0(nT_s), \\dots, w_{\\mathrm{SF}-1}(nT_s)]$, donde cada $w_h(nT_s) \\in \\{0, 1\\}$.  \n",
    "\n",
    "- **Combinaciones posibles**: este vector de $\\mathrm{SF}$ bits admite $2^{\\mathrm{SF}}$ símbolos distintos.\n",
    "\n",
    "\n",
    "\n",
    "Para convertir el vector binario $w(nT_s)$ a un valor real $s(nT_s)$, usamos la siguiente  ecuación propuesta en el paper de Vangelista:\n",
    "\n",
    "$$\n",
    "s(nT_s) \\;=\\; \\sum_{h=0}^{\\mathrm{SF}-1} w_h(nT_s)\\,\\cdot\\,2^{h}\n",
    "$$\n",
    "\n",
    "donde:\n",
    "\n",
    "* $w_h(nT_s)$ es el bit en la posición $h$ del vector de bits $w(nT_s)$.\n",
    "\n",
    "* Cada bit se multiplica por $2^h$ (su “peso”) y se suman todos los términos.\n",
    "\n",
    "\n",
    "Podemos ver entonces que el símbolo $s(nT_s)$ puede tomar cualquiera de los valores enteros:\n",
    "\n",
    "$$\n",
    "s(nT_s) \\;\\in\\; \\{\\,0, 1, 2, \\dots, 2^{\\mathrm{SF}} -1\\}\n",
    "$$\n",
    "\n",
    "\n"
   ]
  },
  {
   "cell_type": "code",
   "execution_count": 12,
   "metadata": {},
   "outputs": [
    {
     "name": "stdout",
     "output_type": "stream",
     "text": [
      "[1 0 1 1 0 1 0 0 1]\n",
      "[1 0 1 1 0 1 0 0 1]\n"
     ]
    }
   ],
   "source": [
    "import numpy as np\n",
    "\n",
    "def generate_random_uniform_bits(sf, nb_samples, ref):\n",
    "    nb_samples_adj = (nb_samples // sf) * sf    # Ajustamos nb_samples al múltiplo de sf más cercano por debajo\n",
    "    z = np.random.uniform(size=nb_samples_adj)\n",
    "    bits = (z > ref).astype(np.uint8)\n",
    "    return bits\n",
    "\n",
    "def encoder(bits, sf):\n",
    "    n_blocks = bits.size // sf\n",
    "    blocks = bits.reshape(n_blocks, sf)  # Restructuramos los bits en bloques de sf bits\n",
    "    weights = 2 ** np.arange(sf)[::-1]   # Generamos un vector con los pesos de cada bit\n",
    "    symbols = blocks.dot(weights)        # Producto punto entre bits y pesos\n",
    "    return symbols\n",
    "\n",
    "def decoder(symbols, sf):\n",
    "    \n",
    "    #symbols: array 1D de enteros (cada uno ∈ [0, 2**sf))\n",
    "    #sf: número de bits por símbolo\n",
    "    #Devuelve un array de forma (n_blocks, sf) con 0/1.\n",
    "    \n",
    "    symbols = np.asarray(symbols, dtype=np.uint64)\n",
    "    # Creamos un vector de pesos [2^(sf-1), 2^(sf-2), ..., 1]\n",
    "    weights = 2 ** np.arange(sf - 1, -1, -1, dtype=np.uint64)\n",
    "    # Para cada símbolo comprobamos bit a bit si está activado\n",
    "    bits = ((symbols[:, None] & weights[None, :]) > 0).astype(np.uint8)\n",
    "    return bits\n",
    "\n",
    "# Ejemplo de uso:\n",
    "SF = 9                     # puede ser cualquiera entre 7 y 12\n",
    "nb_samples = 10000\n",
    "bits = generate_random_uniform_bits(SF, nb_samples, 0.5)\n",
    "\n",
    "print(bits[:9])           # los primeros 9 bits\n",
    "\n",
    "bits = decoder(encoder(bits, SF), SF)\n",
    "\n",
    "print(bits[0])           # los primeros 9 bits\n",
    "\n"
   ]
  }
 ],
 "metadata": {
  "kernelspec": {
   "display_name": ".venv",
   "language": "python",
   "name": "python3"
  },
  "language_info": {
   "codemirror_mode": {
    "name": "ipython",
    "version": 3
   },
   "file_extension": ".py",
   "mimetype": "text/x-python",
   "name": "python",
   "nbconvert_exporter": "python",
   "pygments_lexer": "ipython3",
   "version": "3.12.3"
  }
 },
 "nbformat": 4,
 "nbformat_minor": 2
}
