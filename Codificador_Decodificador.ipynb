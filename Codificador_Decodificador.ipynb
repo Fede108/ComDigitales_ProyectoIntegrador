{
 "cells": [
  {
   "cell_type": "markdown",
   "metadata": {},
   "source": [
    "## Frequency Shift Chirp Modulation: La modulación LoRa\n",
    "\n",
    "LoRa emplea **Chirps** como base de cada símbolo modulado. Un **chirp** es una señal senoidal que aumenta o decrementa su frecuencia de forma lineal.\n",
    "\n",
    "\n",
    "Cada símbolo $s(nT_s)$ es un numero real que se genera a partir de un vector binario $w(nT_s)$ de longitud igual al **Spreading Factor** (SF), el cual puede tomar valores entre 7 y 12.\n",
    "\n",
    "\n",
    "- **Vector de bits**: $w(nT_s) = [w_0(nT_s), \\dots, w_{\\mathrm{SF}-1}(nT_s)]$, donde cada $w_h(nT_s) \\in \\{0, 1\\}$.  \n",
    "\n",
    "- **Combinaciones posibles**: este vector de $\\mathrm{SF}$ bits admite $2^{\\mathrm{SF}}$ símbolos distintos.\n",
    "\n",
    "\n",
    "\n",
    "Para convertir el vector binario $w(nT_s)$ a un valor real $s(nT_s)$, usamos la siguiente  ecuación propuesta en el paper de Vangelista:\n",
    "\n",
    "$$\n",
    "s(nT_s) \\;=\\; \\sum_{h=0}^{\\mathrm{SF}-1} w_h(nT_s)\\,\\cdot\\,2^{h}\n",
    "$$\n",
    "\n",
    "donde:\n",
    "\n",
    "* $w_h(nT_s)$ es el bit en la posición $h$ del vector de bits $w(nT_s)$.\n",
    "\n",
    "* Cada bit se multiplica por $2^h$ (su “peso”) y se suman todos los términos.\n",
    "\n",
    "\n",
    "Podemos ver entonces que el símbolo $s(nT_s)$ puede tomar cualquiera de los valores enteros:\n",
    "\n",
    "$$\n",
    "s(nT_s) \\;\\in\\; \\{\\,0, 1, 2, \\dots, 2^{\\mathrm{SF}} -1\\}\n",
    "$$\n",
    "\n",
    "\n"
   ]
  },
  {
   "cell_type": "code",
   "execution_count": null,
   "metadata": {
    "vscode": {
     "languageId": "plaintext"
    }
   },
   "outputs": [],
   "source": []
  }
 ],
 "metadata": {
  "language_info": {
   "name": "python"
  }
 },
 "nbformat": 4,
 "nbformat_minor": 2
}
